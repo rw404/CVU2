{
 "cells": [
  {
   "cell_type": "markdown",
   "id": "c2d6f007-d53b-44ad-89a0-dabbc2ffab61",
   "metadata": {},
   "source": [
    "# Libraries"
   ]
  },
  {
   "cell_type": "code",
   "execution_count": 1,
   "id": "788b3103-93d0-4750-839a-4cf570d1fa23",
   "metadata": {},
   "outputs": [],
   "source": [
    "import numpy as np"
   ]
  },
  {
   "cell_type": "markdown",
   "id": "1a05965f-de2c-4c42-86ca-c220fd51758b",
   "metadata": {},
   "source": [
    "# Simple network"
   ]
  },
  {
   "cell_type": "code",
   "execution_count": 2,
   "id": "8240a94d-30c1-47e9-9aba-72d0851eea42",
   "metadata": {},
   "outputs": [
    {
     "name": "stdout",
     "output_type": "stream",
     "text": [
      "Goal prediction: weight=0.4\n",
      "Iteration 0, error MSE=0.03999999999999998, weight=0.42000000000000004\n",
      "Iteration 1, error MSE=0.001600000000000003, weight=0.404\n",
      "Iteration 2, error MSE=6.400000000000012e-05, weight=0.40080000000000005\n",
      "Iteration 3, error MSE=2.5600000000001466e-06, weight=0.40016\n",
      "Iteration 4, error MSE=1.0239999999999165e-07, weight=0.400032\n",
      "Iteration 5, error MSE=4.095999999993982e-09, weight=0.40000640000000004\n",
      "Iteration 6, error MSE=1.6384000000089615e-10, weight=0.40000128\n",
      "Iteration 7, error MSE=6.553599999922159e-12, weight=0.400000256\n",
      "Iteration 8, error MSE=2.6214399995141164e-13, weight=0.40000005120000004\n",
      "Iteration 9, error MSE=1.0485760007151412e-14, weight=0.40000001024000004\n",
      "Iteration 10, error MSE=4.1943040119555116e-16, weight=0.400000002048\n",
      "Iteration 11, error MSE=1.6777215865923107e-17, weight=0.40000000040960004\n",
      "Iteration 12, error MSE=6.710887073965021e-19, weight=0.40000000008192005\n",
      "Iteration 13, error MSE=2.6843562847778015e-20, weight=0.400000000016384\n",
      "Iteration 14, error MSE=1.0737425139111206e-21, weight=0.40000000000327685\n",
      "Iteration 15, error MSE=4.295028263521311e-23, weight=0.4000000000006554\n",
      "Iteration 16, error MSE=1.7180113054085245e-24, weight=0.4000000000001311\n",
      "Iteration 17, error MSE=6.870881109457025e-26, weight=0.4000000000000262\n",
      "Iteration 18, error MSE=2.746024811074342e-27, weight=0.40000000000000524\n",
      "Iteration 19, error MSE=1.0891210872707594e-28, weight=0.4000000000000011\n",
      "Iteration 20, error MSE=4.44966854351227e-30, weight=0.40000000000000024\n",
      "Iteration 21, error MSE=1.9721522630525295e-31, weight=0.4000000000000001\n",
      "Iteration 22, error MSE=1.232595164407831e-32, weight=0.4\n",
      "Iteration 23, error MSE=0.0, weight=0.4\n",
      "Result prediction: weight=0.4\n"
     ]
    }
   ],
   "source": [
    "weight = 0.5\n",
    "goal_pred = 0.8\n",
    "inp = 2\n",
    "alpha = 0.1\n",
    "print(f'Goal prediction: weight={goal_pred/inp}')\n",
    "\n",
    "for iteration in range(24):\n",
    "    prediction = inp*weight\n",
    "    error = (prediction-goal_pred)**2\n",
    "    derivative = inp*2*(prediction-goal_pred)\n",
    "    weight -= alpha*derivative\n",
    "    \n",
    "    print(f'Iteration {iteration}, error MSE={error}, weight={weight}')\n",
    "print(f'Result prediction: weight={weight}')"
   ]
  },
  {
   "cell_type": "code",
   "execution_count": null,
   "id": "7f1edaff-9465-4e13-a7b8-a09409bd1d99",
   "metadata": {},
   "outputs": [],
   "source": []
  }
 ],
 "metadata": {
  "kernelspec": {
   "display_name": "Python 3.9.13 64-bit (windows store)",
   "language": "python",
   "name": "python3"
  },
  "language_info": {
   "codemirror_mode": {
    "name": "ipython",
    "version": 3
   },
   "file_extension": ".py",
   "mimetype": "text/x-python",
   "name": "python",
   "nbconvert_exporter": "python",
   "pygments_lexer": "ipython3",
   "version": "3.9.13"
  },
  "vscode": {
   "interpreter": {
    "hash": "23b4a3e8622309bcc6db3d5cc6eb73d60ab98d9ec23bad6a26b709981ccb403a"
   }
  }
 },
 "nbformat": 4,
 "nbformat_minor": 5
}
