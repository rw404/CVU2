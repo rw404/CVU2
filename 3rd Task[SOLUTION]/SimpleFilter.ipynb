{
 "cells": [
  {
   "cell_type": "markdown",
   "metadata": {},
   "source": [
    "# Libraries"
   ]
  },
  {
   "cell_type": "code",
   "execution_count": 1,
   "metadata": {},
   "outputs": [],
   "source": [
    "import numpy as np\n",
    "from matplotlib import pyplot as plt"
   ]
  },
  {
   "cell_type": "markdown",
   "metadata": {},
   "source": [
    "# Filter\n",
    "\n",
    "Реализуем диагональный фильтр, посмотрим пару примеров с ним\n",
    "- реализуем функцию `filter(img)`, которая обратаывает изображение фильтром 3 на 3 для определения диагональных элементов;\n",
    "- затем проверим ее работу на данных MNIST для единиц и двоек."
   ]
  },
  {
   "cell_type": "code",
   "execution_count": 2,
   "metadata": {},
   "outputs": [],
   "source": [
    "def filter(img):\n",
    "    matr = 1/3*np.array(\n",
    "            [[0, 1, 0],\n",
    "            [0, 1, 0],\n",
    "            [0, 1, 0]])\n",
    "        \n",
    "\n",
    "    ans = np.zeros((img.shape[0]-2, img.shape[1]-2))\n",
    "    for i in range(1, img.shape[0]-1):\n",
    "        for j in range(1, img.shape[1]-1):\n",
    "            ans[i-1, j-1] = np.sum(matr*img[i-1:i+2, j-1:j+2])\n",
    "\n",
    "    return ans\n"
   ]
  },
  {
   "cell_type": "code",
   "execution_count": 13,
   "metadata": {},
   "outputs": [
    {
     "name": "stdout",
     "output_type": "stream",
     "text": [
      "OK\n"
     ]
    }
   ],
   "source": [
    "assert filter(np.eye(3))[0, 0] == 1/3\n",
    "\n",
    "print(\"OK\")"
   ]
  },
  {
   "cell_type": "markdown",
   "metadata": {},
   "source": [
    "## Данные MNIST\n",
    "\n",
    "Возьмем 2 изображения -- 1-ое для единицы, второе для двойки и псмотрим на их матрицы яркости -- результата свертки."
   ]
  },
  {
   "cell_type": "code",
   "execution_count": 4,
   "metadata": {},
   "outputs": [],
   "source": [
    "X, y = np.load(\"../2nd Task/Mnist_X.npy\"), np.load(\"../2nd Task/Mnist_y.npy\")"
   ]
  },
  {
   "cell_type": "code",
   "execution_count": 5,
   "metadata": {},
   "outputs": [
    {
     "data": {
      "image/png": "[encoded data removed]",
      "text/plain": [
       "<Figure size 432x288 with 1 Axes>"
      ]
     },
     "metadata": {
      "needs_background": "light"
     },
     "output_type": "display_data"
    },
    {
     "data": {
      "image/png": "[encoded data removed]",
      "text/plain": [
       "<Figure size 432x288 with 1 Axes>"
      ]
     },
     "metadata": {
      "needs_background": "light"
     },
     "output_type": "display_data"
    }
   ],
   "source": [
    "done_one = False\n",
    "done_two = False\n",
    "cnt_1 = 0\n",
    "for i, (x, label) in enumerate(zip(X, y)):\n",
    "    if label == 1 and not done_one and cnt_1 > 0:\n",
    "        plt.imshow(x)\n",
    "        plt.show()\n",
    "        x_1 = x\n",
    "        done_one = True\n",
    "    elif label == 2 and not done_two:\n",
    "        plt.imshow(x)\n",
    "        plt.show()\n",
    "        x_2 = x\n",
    "        done_two = True\n",
    "    elif label == 1 and not done_one:\n",
    "        cnt_1 += 1\n",
    "    if done_two and done_one:\n",
    "        break"
   ]
  },
  {
   "cell_type": "code",
   "execution_count": 6,
   "metadata": {},
   "outputs": [
    {
     "name": "stdout",
     "output_type": "stream",
     "text": [
      "0.4794227963798093\n"
     ]
    },
    {
     "data": {
      "image/png": "[encoded data removed]",
      "text/plain": [
       "<Figure size 432x288 with 2 Axes>"
      ]
     },
     "metadata": {
      "needs_background": "light"
     },
     "output_type": "display_data"
    }
   ],
   "source": [
    "im_0 = x_2/255\n",
    "for i in range(10):\n",
    "    im_0 = filter(im_0)\n",
    "plt.imshow(im_0)\n",
    "plt.colorbar()\n",
    "print(im_0.mean())"
   ]
  },
  {
   "cell_type": "code",
   "execution_count": 7,
   "metadata": {},
   "outputs": [
    {
     "name": "stdout",
     "output_type": "stream",
     "text": [
      "0.4434007615476543\n"
     ]
    },
    {
     "data": {
      "image/png": "[encoded data removed]",
      "text/plain": [
       "<Figure size 432x288 with 2 Axes>"
      ]
     },
     "metadata": {
      "needs_background": "light"
     },
     "output_type": "display_data"
    }
   ],
   "source": [
    "im_1 = x_1/255\n",
    "for i in range(10):\n",
    "    im_1 = filter(im_1)\n",
    "plt.imshow(im_1)\n",
    "plt.colorbar()\n",
    "print(im_1.mean())"
   ]
  },
  {
   "cell_type": "markdown",
   "metadata": {},
   "source": [
    "# Pooling\n",
    "\n",
    "- Напишем функцию `pool(img)`, применяющую max-pooling для изображения"
   ]
  },
  {
   "cell_type": "code",
   "execution_count": 8,
   "metadata": {},
   "outputs": [],
   "source": [
    "def pool(img):\n",
    "\n",
    "    print(img.shape)\n",
    "    ans = np.zeros((img.shape[0]//2+img.shape[0]%2, img.shape[1]//2+img.shape[1]%2))\n",
    "\n",
    "    for i in range(0, img.shape[0], 2):\n",
    "        for j in range(0, img.shape[1], 2):\n",
    "            ans[i//2][j//2] = np.max(img[i:i+2, j:j+2])\n",
    "\n",
    "    return ans"
   ]
  },
  {
   "cell_type": "code",
   "execution_count": 9,
   "metadata": {},
   "outputs": [
    {
     "name": "stdout",
     "output_type": "stream",
     "text": [
      "(26, 26)\n",
      "(11, 11)\n",
      "0.4593076736867586\n"
     ]
    },
    {
     "data": {
      "image/png": "[encoded data removed]",
      "text/plain": [
       "<Figure size 432x288 with 2 Axes>"
      ]
     },
     "metadata": {
      "needs_background": "light"
     },
     "output_type": "display_data"
    }
   ],
   "source": [
    "im_2 = x_2/255\n",
    "for i in range(2):\n",
    "    im_2 = pool(filter(im_2))\n",
    "plt.imshow(im_2)\n",
    "plt.colorbar()\n",
    "print(im_2.mean())"
   ]
  },
  {
   "cell_type": "code",
   "execution_count": 10,
   "metadata": {},
   "outputs": [
    {
     "name": "stdout",
     "output_type": "stream",
     "text": [
      "(26, 26)\n",
      "(11, 11)\n",
      "0.26259985475671743\n"
     ]
    },
    {
     "data": {
      "image/png": "[encoded data removed]",
      "text/plain": [
       "<Figure size 432x288 with 2 Axes>"
      ]
     },
     "metadata": {
      "needs_background": "light"
     },
     "output_type": "display_data"
    }
   ],
   "source": [
    "im_1 = x_1/255\n",
    "for i in range(2):\n",
    "    im_1 = pool(filter(im_1))\n",
    "plt.imshow(im_1)\n",
    "plt.colorbar()\n",
    "print(im_1.mean())"
   ]
  },
  {
   "cell_type": "code",
   "execution_count": null,
   "metadata": {},
   "outputs": [],
   "source": []
  }
 ],
 "metadata": {
  "kernelspec": {
   "display_name": "Python 3.9.4 64-bit",
   "language": "python",
   "name": "python3"
  },
  "language_info": {
   "codemirror_mode": {
    "name": "ipython",
    "version": 3
   },
   "file_extension": ".py",
   "mimetype": "text/x-python",
   "name": "python",
   "nbconvert_exporter": "python",
   "pygments_lexer": "ipython3",
   "version": "3.9.4"
  },
  "vscode": {
   "interpreter": {
    "hash": "cf92aa13fedf815d5c8dd192b8d835913fde3e8bc926b2a0ad6cc74ef2ba3ca2"
   }
  }
 },
 "nbformat": 4,
 "nbformat_minor": 4
}
