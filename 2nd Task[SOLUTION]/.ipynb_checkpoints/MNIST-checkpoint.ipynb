{
 "cells": [
  {
   "cell_type": "markdown",
   "id": "f7c9f7b8-bce8-4f4e-a249-ec939206c8dd",
   "metadata": {},
   "source": [
    "# Libraries"
   ]
  },
  {
   "cell_type": "code",
   "execution_count": 1,
   "id": "3d9a22c4-0e4a-47a8-84b5-73e30816e88f",
   "metadata": {},
   "outputs": [],
   "source": [
    "import numpy as np\n",
    "from keras.datasets import mnist\n",
    "from torch.utils.data import Dataset\n",
    "from typing import Optional\n",
    "import os\n",
    "import numpy as np\n",
    "from PIL import Image\n",
    "import torch\n",
    "from torchvision import transforms, utils\n",
    "from torchvision.utils import make_grid\n",
    "from torch import nn\n",
    "import pytorch_lightning as pl\n",
    "from torch.nn import functional as F\n",
    "from torch.utils.data import DataLoader\n",
    "from torchvision.datasets import ImageFolder\n",
    "import torchvision\n",
    "from matplotlib import pyplot as plt\n",
    "import torchvision.transforms as T"
   ]
  },
  {
   "cell_type": "markdown",
   "id": "3750d8e7-ea6f-4743-ab88-a7845dc71da3",
   "metadata": {},
   "source": [
    "# Data\n",
    "\n",
    "Загрузим данные и посмотрим на их количество\n",
    "- В файле **Mnist_X.npy** изображения, в **Mnist_y.npy** - ответы;\n",
    "- Для тренировки используем первые **60000** экземпляров, для теста -- **10000**."
   ]
  },
  {
   "cell_type": "code",
   "execution_count": 2,
   "id": "36f713dd-c55b-418a-a337-0a08650ad333",
   "metadata": {},
   "outputs": [
    {
     "name": "stdout",
     "output_type": "stream",
     "text": [
      "(70000, 28, 28)\n",
      "(70000,)\n"
     ]
    }
   ],
   "source": [
    "X = np.load('Mnist_X.npy')\n",
    "y = np.load('Mnist_y.npy')\n",
    "print(X.shape)\n",
    "print(y.shape)"
   ]
  },
  {
   "cell_type": "code",
   "execution_count": 3,
   "id": "fdeb499e-95ef-4c92-ae16-9b37e772e0da",
   "metadata": {},
   "outputs": [
    {
     "name": "stdout",
     "output_type": "stream",
     "text": [
      "X_train: (60000, 28, 28)\n",
      "Y_train: (60000,)\n",
      "X_test:  (10000, 28, 28)\n",
      "Y_test:  (10000,)\n"
     ]
    }
   ],
   "source": [
    "train_X, test_X = X[:60000], X[60000:]\n",
    "train_y, test_y = y[:60000], y[60000:]\n",
    "print('X_train: ' + str(train_X.shape))\n",
    "print('Y_train: ' + str(train_y.shape))\n",
    "print('X_test:  '  + str(test_X.shape))\n",
    "print('Y_test:  '  + str(test_y.shape))"
   ]
  },
  {
   "cell_type": "markdown",
   "id": "156b3e4b-93de-46fb-99d3-d9b76922e9a0",
   "metadata": {},
   "source": [
    "## Dataset\n",
    "\n",
    "Создадим класс с данными, который будет реалзовывать все необходимые для обучения сети методы:\n",
    "- Начальная инициализация:\n",
    "    - Задаем режим, для которого эти данные выбираются: **тренировка train**, **валидация val**, **тестирование test**;\n",
    "    - Равномерное деление на валидацию и тестирование: создадим словарь, в котором будем хранить кол-во представителей каждого класса. Когда добавляем элемент, увеличиваем соответствующий счетчик;\n",
    "    - Задаем параметр деления выборки(в каком соотношении на тренировочную и валидационную). \n",
    "- Вернуть длину выборки датасета\n",
    "- Получить элемент из выбоки:\n",
    "    - Изображение (28 на 28 пикселей) представить в виде одного вектора длины 784\n",
    "    - Представить вектор в тип данных для torch и вернуть пару (вектор и метка класса)."
   ]
  },
  {
   "cell_type": "code",
   "execution_count": 4,
   "id": "d8a87532-4847-4a12-9c7b-50496eba000b",
   "metadata": {},
   "outputs": [],
   "source": [
    "# Dataset class\n",
    "class MyCustomDataset(Dataset):\n",
    "    def __init__(self, \n",
    "                 mode,\n",
    "                 X,\n",
    "                 y,\n",
    "                 fraction: float = 0.8,\n",
    "                ):\n",
    "        ## list of tuples: (img, label)\n",
    "        self._items = []\n",
    "        train_len = fraction*X.shape[0]\n",
    "        class_cnt = {i: 0 for i in range(10)}\n",
    "        class_len = train_len//10\n",
    "        \n",
    "        np.random.seed(42)\n",
    "        if mode == 'train' or mode == 'val':\n",
    "            for i in range(X.shape[0]):\n",
    "                if len(self._items) < train_len and class_cnt[y[i]] < class_len:\n",
    "                    if mode == 'train':\n",
    "                        self._items.append((X[i], y[i]))\n",
    "                    class_cnt[y[i]] += 1\n",
    "                else:\n",
    "                    if mode == 'val':\n",
    "                        self._items.append((X[i], y[i]))\n",
    "                    \n",
    "        else:\n",
    "            self._items = list(zip(X, y))\n",
    "        np.random.shuffle(self._items)\n",
    "\n",
    "    def __len__(self):\n",
    "        return len(self._items)\n",
    "\n",
    "    def __getitem__(self, index):\n",
    "        img, label = self._items[index]\n",
    "\n",
    "        img = torch.from_numpy(img.ravel())\n",
    "\n",
    "        return img, label"
   ]
  },
  {
   "cell_type": "code",
   "execution_count": 5,
   "id": "cb0a175c-b18a-48f5-aa23-5d1691d8690d",
   "metadata": {},
   "outputs": [],
   "source": [
    "ds_train = MyCustomDataset('train', train_X, train_y)"
   ]
  },
  {
   "cell_type": "code",
   "execution_count": 6,
   "id": "e27af2e1-8af4-4615-ae93-73ec7a144f20",
   "metadata": {},
   "outputs": [],
   "source": [
    "ds_val = MyCustomDataset('val', train_X, train_y)"
   ]
  },
  {
   "cell_type": "code",
   "execution_count": 7,
   "id": "45627d5f-aa83-44d6-8827-40e1e2211111",
   "metadata": {},
   "outputs": [],
   "source": [
    "ds_test = MyCustomDataset('test', test_X, test_y)"
   ]
  },
  {
   "cell_type": "code",
   "execution_count": 8,
   "id": "566afe64-2f0a-486c-9a47-bec112ecd3d8",
   "metadata": {},
   "outputs": [
    {
     "data": {
      "text/plain": [
       "(48000, 12000, 10000)"
      ]
     },
     "execution_count": 8,
     "metadata": {},
     "output_type": "execute_result"
    }
   ],
   "source": [
    "len(ds_train), len(ds_val), len(ds_test)"
   ]
  },
  {
   "cell_type": "markdown",
   "id": "7e8595cd-d885-4049-b403-b9012bd39a8b",
   "metadata": {},
   "source": [
    "## Пример\n",
    "\n",
    "Покажем, как из данных датасета получить изображение и его метку"
   ]
  },
  {
   "cell_type": "code",
   "execution_count": 9,
   "id": "a94ed23f-1dc6-4ead-9db7-afac79cfb4be",
   "metadata": {},
   "outputs": [
    {
     "name": "stdout",
     "output_type": "stream",
     "text": [
      "Цифра 9\n"
     ]
    },
    {
     "data": {
      "image/png": "[encoded data removed]",
      "text/plain": [
       "<Figure size 432x288 with 1 Axes>"
      ]
     },
     "metadata": {
      "needs_background": "light"
     },
     "output_type": "display_data"
    }
   ],
   "source": [
    "im, label = ds_train[0]\n",
    "im = im.detach().cpu().numpy().reshape((28, 28))\n",
    "plt.imshow(im)\n",
    "print(f'Цифра {label}')"
   ]
  },
  {
   "cell_type": "markdown",
   "id": "21895ea8-5bab-45d0-b4a3-5a4def563fa9",
   "metadata": {},
   "source": [
    "## Упаковываем данные в батчи, которые будут поступать на вход сети"
   ]
  },
  {
   "cell_type": "code",
   "execution_count": 10,
   "id": "2d196048-2fb4-449d-a18e-8f53bd046317",
   "metadata": {},
   "outputs": [],
   "source": [
    "dl_train = DataLoader(ds_train, batch_size=32, shuffle=True, num_workers=0)\n",
    "dl_val = DataLoader(ds_val, batch_size=32, shuffle=False, num_workers=0)\n",
    "dl_test = DataLoader(ds_test, batch_size=32, shuffle=False, num_workers=0)"
   ]
  },
  {
   "cell_type": "markdown",
   "id": "13a8cd1a-67c2-478c-9779-a026999999c8",
   "metadata": {},
   "source": [
    "# Model\n"
   ]
  },
  {
   "cell_type": "code",
   "execution_count": 11,
   "id": "bd6f2827-d0f2-464c-a05c-5e68568f52d0",
   "metadata": {},
   "outputs": [],
   "source": [
    "class MyModel(pl.LightningModule):\n",
    "    # REQUIRED\n",
    "    def __init__(self, input_shape=(3, 130, 130), test_data=dl_test, num_classes=10, freeze=True):\n",
    "        super().__init__()\n",
    "        \"\"\" Define computations here. \"\"\"\n",
    "        \n",
    "        # Описываем модель\n",
    "        self.fc1 = nn.Linear(784, 100)\n",
    "        self.act = nn.ReLU()\n",
    "        self.fc2 = nn.Linear(100, 10)\n",
    "        \n",
    "        # Для оценки качества на тестовых данных можем указать \n",
    "        # сразу данные, на которых и будет производиться эта оценка\n",
    "        self.test_data = test_data\n",
    "        \n",
    "        # В качестве ошибки выступает кросс-энтропия\n",
    "        self.loss = F.cross_entropy\n",
    "        \n",
    "        # Дополнительно посмотрим на метрику точности, т.к. она более понятна\n",
    "        self.accuracy = lambda x, y: (x.argmax(-1) == y).float().mean()\n",
    "    \n",
    "    # REQUIRED\n",
    "    def forward(self, x):\n",
    "        \"\"\" Use for inference only (separate from training_step). \"\"\"\n",
    "        # Чтобы избежать ошибок, переводим данные в нужный формат\n",
    "        x = x.type(torch.FloatTensor)\n",
    "        \n",
    "        # Описываем поведение сети, т.е. как она проходит \n",
    "        # через 1-ый слой, \n",
    "        x = self.fc1(x)\n",
    "        # применяем функцию-срезку\n",
    "        x = self.act(x)\n",
    "        # применяем второй слой\n",
    "        x = self.fc2(x)\n",
    "    \n",
    "        return x\n",
    "    \n",
    "    # REQUIRED -- в конце каждого этапа обучения будут сохраняться результаты \n",
    "    # ошибок и точности на данной эпохе для обуающей выборки\n",
    "    def training_step(self, batch, batch_idx):\n",
    "        \"\"\"the full training loop\"\"\"\n",
    "        x, y = batch\n",
    "        \n",
    "        x = x.type(torch.FloatTensor)\n",
    "        y = y.type(torch.LongTensor)\n",
    "\n",
    "        y_logit = self(x)\n",
    "        loss = self.loss(y_logit, y)\n",
    "        \n",
    "        acc = self.accuracy(y_logit, y)\n",
    "\n",
    "        return {'loss': loss, 'acc': acc}\n",
    "\n",
    "    # REQUIRED -- определяем оптимизатор и задаем learning rate\n",
    "    # P.s. еще можно указать как менять скорость обучения, \n",
    "    #      но тут мало эпох и слишком простая задача для этого\n",
    "    def configure_optimizers(self):\n",
    "        \"\"\" Define optimizers and LR schedulers. \"\"\"\n",
    "        optimizer = torch.optim.Adam(self.parameters(), lr=1e-3)\n",
    "        \n",
    "        return optimizer\n",
    "    \n",
    "    # OPTIONAL -- как и с обучающими, но тут результаты на валидации, чтобы отслеживать переобучение\n",
    "    def validation_step(self, batch, batch_idx):\n",
    "        \"\"\"the full validation loop\"\"\"\n",
    "        x, y = batch\n",
    "\n",
    "        x = x.type(torch.FloatTensor)\n",
    "        y = y.type(torch.LongTensor)\n",
    "            \n",
    "        y_logit = self(x)\n",
    "        loss = self.loss(y_logit, y)\n",
    "        \n",
    "        acc = self.accuracy(y_logit, y)\n",
    "\n",
    "        return {'val_loss': loss, 'val_acc': acc}\n",
    "\n",
    "    # OPTIONAL -- как раз визуализация среднего значения результатов на обучающей выборке\n",
    "    def training_epoch_end(self, outputs):\n",
    "        \"\"\"log and display average train loss and accuracy across epoch\"\"\"\n",
    "        avg_loss = torch.stack([x['loss'] for x in outputs]).mean()\n",
    "        avg_acc = torch.stack([x['acc'] for x in outputs]).mean()\n",
    "        \n",
    "        print(f\"| Train_acc: {avg_acc:.2f}, Train_loss: {avg_loss:.2f}\" )\n",
    "        \n",
    "        self.log('train_loss', avg_loss, prog_bar=True, on_epoch=True, on_step=False)\n",
    "        self.log('train_acc', avg_acc, prog_bar=True, on_epoch=True, on_step=False)\n",
    "     \n",
    "    # OPTIONAL -- то же самое для валидации\n",
    "    def validation_epoch_end(self, outputs):\n",
    "        \"\"\"log and display average val loss and accuracy\"\"\"\n",
    "        avg_loss = torch.stack([x['val_loss'] for x in outputs]).mean()\n",
    "        avg_acc = torch.stack([x['val_acc'] for x in outputs]).mean()\n",
    "        \n",
    "        print(f\"[Epoch {self.trainer.current_epoch:3}] Val_loss: {avg_loss:.5f} Val_accuracy: {avg_acc:.5f}\", end= \" \")\n",
    "        \n",
    "        self.log('val_loss', avg_loss, prog_bar=True, on_epoch=True, on_step=False)\n",
    "        self.log('val_acc', avg_acc, prog_bar=True, on_epoch=True, on_step=False)\n",
    "    \n",
    "    # Оценка качества на тестовой выборке\n",
    "    def test_step(self, batch, batch_idx):\n",
    "        x, y = batch\n",
    "        logits = self(x)\n",
    "        loss = self.loss(logits, y)\n",
    "        acc = self.accuracy(logits, y)\n",
    "\n",
    "        # Calling self.log will surface up scalars for you in TensorBoard\n",
    "        self.log(\"test_loss\", loss, prog_bar=True)\n",
    "        self.log(\"test_acc\", acc, prog_bar=True)\n",
    "        \n",
    "    # Какие данные сеть полагает тестовыми\n",
    "    def test_dataloader(self):\n",
    "        return self.test_data"
   ]
  },
  {
   "cell_type": "markdown",
   "id": "1093c0fc-4e2c-4977-8faa-e737e8e50e98",
   "metadata": {},
   "source": [
    "# Обучение\n",
    "\n",
    "1. Создаем модель\n",
    "2. Задаем \"учителя\"\n",
    "3. Запускаем процесс обучения"
   ]
  },
  {
   "cell_type": "code",
   "execution_count": 12,
   "id": "e2531942-c4dd-4579-9443-ee96c11731a8",
   "metadata": {},
   "outputs": [],
   "source": [
    "m = MyModel()"
   ]
  },
  {
   "cell_type": "code",
   "execution_count": 13,
   "id": "743ed944-7799-4eb1-9236-b7df16ebceeb",
   "metadata": {},
   "outputs": [
    {
     "name": "stderr",
     "output_type": "stream",
     "text": [
      "GPU available: True, used: False\n",
      "TPU available: False, using: 0 TPU cores\n",
      "IPU available: False, using: 0 IPUs\n",
      "HPU available: False, using: 0 HPUs\n",
      "/home/rw/.local/lib/python3.8/site-packages/pytorch_lightning/trainer/trainer.py:1812: PossibleUserWarning: GPU available but not used. Set `accelerator` and `devices` using `Trainer(accelerator='gpu', devices=1)`.\n",
      "  rank_zero_warn(\n"
     ]
    }
   ],
   "source": [
    "trainer = pl.Trainer(\n",
    "    max_epochs=5,\n",
    "    gpus=0,\n",
    ")"
   ]
  },
  {
   "cell_type": "code",
   "execution_count": 14,
   "id": "47fd5d2f-dd94-415f-9144-381162f09a8b",
   "metadata": {},
   "outputs": [
    {
     "name": "stderr",
     "output_type": "stream",
     "text": [
      "Missing logger folder: /mnt/d/КЗ/Презентации/2nd Task[SOLUTION]/lightning_logs\n",
      "\n",
      "  | Name | Type   | Params\n",
      "--------------------------------\n",
      "0 | fc1  | Linear | 78.5 K\n",
      "1 | act  | ReLU   | 0     \n",
      "2 | fc2  | Linear | 1.0 K \n",
      "--------------------------------\n",
      "79.5 K    Trainable params\n",
      "0         Non-trainable params\n",
      "79.5 K    Total params\n",
      "0.318     Total estimated model params size (MB)\n"
     ]
    },
    {
     "data": {
      "application/vnd.jupyter.widget-view+json": {
       "model_id": "",
       "version_major": 2,
       "version_minor": 0
      },
      "text/plain": [
       "Sanity Checking: 0it [00:00, ?it/s]"
      ]
     },
     "metadata": {},
     "output_type": "display_data"
    },
    {
     "name": "stdout",
     "output_type": "stream",
     "text": [
      "[Epoch   0] Val_loss: 31.37868 Val_accuracy: 0.06250 "
     ]
    },
    {
     "name": "stderr",
     "output_type": "stream",
     "text": [
      "/home/rw/.local/lib/python3.8/site-packages/pytorch_lightning/trainer/connectors/data_connector.py:240: PossibleUserWarning: The dataloader, val_dataloader 0, does not have many workers which may be a bottleneck. Consider increasing the value of the `num_workers` argument` (try 4 which is the number of cpus on this machine) in the `DataLoader` init to improve performance.\n",
      "  rank_zero_warn(\n",
      "/home/rw/.local/lib/python3.8/site-packages/pytorch_lightning/trainer/connectors/data_connector.py:240: PossibleUserWarning: The dataloader, train_dataloader, does not have many workers which may be a bottleneck. Consider increasing the value of the `num_workers` argument` (try 4 which is the number of cpus on this machine) in the `DataLoader` init to improve performance.\n",
      "  rank_zero_warn(\n"
     ]
    },
    {
     "data": {
      "application/vnd.jupyter.widget-view+json": {
       "model_id": "43320682166e4c588a011056f9f45cfc",
       "version_major": 2,
       "version_minor": 0
      },
      "text/plain": [
       "Training: 0it [00:00, ?it/s]"
      ]
     },
     "metadata": {},
     "output_type": "display_data"
    },
    {
     "data": {
      "application/vnd.jupyter.widget-view+json": {
       "model_id": "",
       "version_major": 2,
       "version_minor": 0
      },
      "text/plain": [
       "Validation: 0it [00:00, ?it/s]"
      ]
     },
     "metadata": {},
     "output_type": "display_data"
    },
    {
     "name": "stdout",
     "output_type": "stream",
     "text": [
      "[Epoch   0] Val_loss: 0.43922 Val_accuracy: 0.88025 | Train_acc: 0.88, Train_loss: 0.59\n"
     ]
    },
    {
     "data": {
      "application/vnd.jupyter.widget-view+json": {
       "model_id": "",
       "version_major": 2,
       "version_minor": 0
      },
      "text/plain": [
       "Validation: 0it [00:00, ?it/s]"
      ]
     },
     "metadata": {},
     "output_type": "display_data"
    },
    {
     "name": "stdout",
     "output_type": "stream",
     "text": [
      "[Epoch   1] Val_loss: 0.21294 Val_accuracy: 0.94225 | Train_acc: 0.93, Train_loss: 0.24\n"
     ]
    },
    {
     "data": {
      "application/vnd.jupyter.widget-view+json": {
       "model_id": "",
       "version_major": 2,
       "version_minor": 0
      },
      "text/plain": [
       "Validation: 0it [00:00, ?it/s]"
      ]
     },
     "metadata": {},
     "output_type": "display_data"
    },
    {
     "name": "stdout",
     "output_type": "stream",
     "text": [
      "[Epoch   2] Val_loss: 0.21557 Val_accuracy: 0.94375 | Train_acc: 0.94, Train_loss: 0.21\n"
     ]
    },
    {
     "data": {
      "application/vnd.jupyter.widget-view+json": {
       "model_id": "",
       "version_major": 2,
       "version_minor": 0
      },
      "text/plain": [
       "Validation: 0it [00:00, ?it/s]"
      ]
     },
     "metadata": {},
     "output_type": "display_data"
    },
    {
     "name": "stdout",
     "output_type": "stream",
     "text": [
      "[Epoch   3] Val_loss: 0.22048 Val_accuracy: 0.94925 | Train_acc: 0.95, Train_loss: 0.20\n"
     ]
    },
    {
     "data": {
      "application/vnd.jupyter.widget-view+json": {
       "model_id": "",
       "version_major": 2,
       "version_minor": 0
      },
      "text/plain": [
       "Validation: 0it [00:00, ?it/s]"
      ]
     },
     "metadata": {},
     "output_type": "display_data"
    },
    {
     "name": "stdout",
     "output_type": "stream",
     "text": [
      "[Epoch   4] Val_loss: 0.22560 Val_accuracy: 0.94942 | Train_acc: 0.95, Train_loss: 0.19\n"
     ]
    }
   ],
   "source": [
    "trainer.fit(m, dl_train, dl_val)"
   ]
  },
  {
   "cell_type": "markdown",
   "id": "adc3299f-f3d2-4244-8790-6461def9e162",
   "metadata": {},
   "source": [
    "# Результаты на тестовых данных"
   ]
  },
  {
   "cell_type": "code",
   "execution_count": 15,
   "id": "e99a6431-f240-46b0-b2db-771369545a93",
   "metadata": {},
   "outputs": [
    {
     "name": "stderr",
     "output_type": "stream",
     "text": [
      "/home/rw/.local/lib/python3.8/site-packages/pytorch_lightning/trainer/trainer.py:1444: UserWarning: `.test(ckpt_path=None)` was called without a model. The best model of the previous `fit` call will be used. You can pass `test(ckpt_path='best')` to use and best model checkpoint and avoid this warning or `ckpt_path=trainer.checkpoint_callback.last_model_path` to use the last model.\n",
      "  rank_zero_warn(\n",
      "Restoring states from the checkpoint path at /mnt/d/КЗ/Презентации/2nd Task[SOLUTION]/lightning_logs/version_0/checkpoints/epoch=4-step=7500.ckpt\n",
      "Loaded model weights from checkpoint at /mnt/d/КЗ/Презентации/2nd Task[SOLUTION]/lightning_logs/version_0/checkpoints/epoch=4-step=7500.ckpt\n",
      "/home/rw/.local/lib/python3.8/site-packages/pytorch_lightning/trainer/connectors/data_connector.py:240: PossibleUserWarning: The dataloader, test_dataloader 0, does not have many workers which may be a bottleneck. Consider increasing the value of the `num_workers` argument` (try 4 which is the number of cpus on this machine) in the `DataLoader` init to improve performance.\n",
      "  rank_zero_warn(\n"
     ]
    },
    {
     "data": {
      "application/vnd.jupyter.widget-view+json": {
       "model_id": "2823f8d200044f9aa6a152f817fd3132",
       "version_major": 2,
       "version_minor": 0
      },
      "text/plain": [
       "Testing: 0it [00:00, ?it/s]"
      ]
     },
     "metadata": {},
     "output_type": "display_data"
    },
    {
     "name": "stdout",
     "output_type": "stream",
     "text": [
      "────────────────────────────────────────────────────────────────────────────────────────────────────────────────────────\n",
      "       Test metric             DataLoader 0\n",
      "────────────────────────────────────────────────────────────────────────────────────────────────────────────────────────\n",
      "        test_acc            0.9466000199317932\n",
      "        test_loss           0.23714858293533325\n",
      "────────────────────────────────────────────────────────────────────────────────────────────────────────────────────────\n"
     ]
    },
    {
     "data": {
      "text/plain": [
       "[{'test_loss': 0.23714858293533325, 'test_acc': 0.9466000199317932}]"
      ]
     },
     "execution_count": 15,
     "metadata": {},
     "output_type": "execute_result"
    }
   ],
   "source": [
    "trainer.test()"
   ]
  },
  {
   "cell_type": "code",
   "execution_count": null,
   "id": "8b206e26-023f-4d60-b254-2060033c980a",
   "metadata": {},
   "outputs": [],
   "source": []
  }
 ],
 "metadata": {
  "kernelspec": {
   "display_name": "Python 3 (ipykernel)",
   "language": "python",
   "name": "python3"
  },
  "language_info": {
   "codemirror_mode": {
    "name": "ipython",
    "version": 3
   },
   "file_extension": ".py",
   "mimetype": "text/x-python",
   "name": "python",
   "nbconvert_exporter": "python",
   "pygments_lexer": "ipython3",
   "version": "3.8.10"
  },
  "vscode": {
   "interpreter": {
    "hash": "aee8b7b246df8f9039afb4144a1f6fd8d2ca17a180786b69acc140d282b71a49"
   }
  }
 },
 "nbformat": 4,
 "nbformat_minor": 5
}
