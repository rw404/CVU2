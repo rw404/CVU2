{
 "cells": [
  {
   "cell_type": "markdown",
   "id": "c2d6f007-d53b-44ad-89a0-dabbc2ffab61",
   "metadata": {},
   "source": [
    "# Libraries"
   ]
  },
  {
   "cell_type": "code",
   "execution_count": 1,
   "id": "788b3103-93d0-4750-839a-4cf570d1fa23",
   "metadata": {},
   "outputs": [],
   "source": [
    "import numpy as np"
   ]
  },
  {
   "cell_type": "markdown",
   "id": "1a05965f-de2c-4c42-86ca-c220fd51758b",
   "metadata": {},
   "source": [
    "# Simple network\n",
    "\n",
    "- $model(x) = w*x$;\n",
    "- $err(x) = x^2$;\n",
    "- Будем считать, что из входа x получается результат $l=model(x)$, затем получаем ошибку $err(l-goal_pred)$;\n",
    "- Затем считаем, как нужно изменить веса нейрона на уровне $l$ - $2*err(l-goal_pred)$;\n",
    "- Посчитаем ошибку для слоя $x$, заметим, что $w(x)' = x$, поэтому $2*err(l-goal_pred)*x$."
   ]
  },
  {
   "cell_type": "code",
   "execution_count": null,
   "id": "8240a94d-30c1-47e9-9aba-72d0851eea42",
   "metadata": {},
   "outputs": [],
   "source": [
    "# Вес модели\n",
    "weight = 0.5\n",
    "# Желаемый результат\n",
    "goal_pred = 0.8\n",
    "# Вход сети\n",
    "inp = 2\n",
    "# Скорость обучения\n",
    "alpha = 0.1\n",
    "print(f'Goal prediction: weight={goal_pred/inp}')\n",
    "\n",
    "for iteration in range(24):\n",
    "    # TODO: Написать получение предсказания\n",
    "    prediction = ...\n",
    "    # TODO: Посчитать ошибку\n",
    "    error = ...\n",
    "    # TODO: Посчитать изменение веса\n",
    "    derivative = ...\n",
    "    # TODO: Написать, как меняются веса\n",
    "    weight -= ...\n",
    "    \n",
    "    print(f'Iteration {iteration}, error MSE={error}, weight={weight}')\n",
    "print(f'Result prediction: weight={weight}')"
   ]
  },
  {
   "cell_type": "code",
   "execution_count": null,
   "id": "7f1edaff-9465-4e13-a7b8-a09409bd1d99",
   "metadata": {},
   "outputs": [],
   "source": []
  }
 ],
 "metadata": {
  "kernelspec": {
   "display_name": "Python 3.9.13 64-bit (windows store)",
   "language": "python",
   "name": "python3"
  },
  "language_info": {
   "codemirror_mode": {
    "name": "ipython",
    "version": 3
   },
   "file_extension": ".py",
   "mimetype": "text/x-python",
   "name": "python",
   "nbconvert_exporter": "python",
   "pygments_lexer": "ipython3",
   "version": "3.9.13"
  },
  "vscode": {
   "interpreter": {
    "hash": "23b4a3e8622309bcc6db3d5cc6eb73d60ab98d9ec23bad6a26b709981ccb403a"
   }
  }
 },
 "nbformat": 4,
 "nbformat_minor": 5
}
